{
 "cells": [
  {
   "cell_type": "code",
   "execution_count": 26,
   "metadata": {
    "collapsed": false
   },
   "outputs": [],
   "source": [
    "def longest_substring(s):\n",
    "\n",
    "    '''\n",
    "\n",
    "    Arg:\n",
    "        s = string to be evaluated for longest substring\n",
    "        \n",
    "    Output:\n",
    "        len(substring) = length of the longest substring in int\n",
    "    \n",
    "    '''\n",
    "\n",
    "    substrings = ''\n",
    "\n",
    "    for number in range(0, len(set(s))+1)[::-1]:\n",
    "        start = 0\n",
    "        end = number\n",
    "        while ((end <= len(s)) and (start != end)):\n",
    "\n",
    "            if len(list(s[start:end])) == len(set(s[start:end])):\n",
    "                substrings= s[start:end]\n",
    "                break\n",
    "\n",
    "            start += 1\n",
    "            end += 1\n",
    "\n",
    "        if len(substrings) > 0:\n",
    "            break\n",
    "\n",
    "    return len(substrings)"
   ]
  }
 ],
 "metadata": {
  "kernelspec": {
   "display_name": "Python 2",
   "language": "python",
   "name": "python2"
  },
  "language_info": {
   "codemirror_mode": {
    "name": "ipython",
    "version": 2
   },
   "file_extension": ".py",
   "mimetype": "text/x-python",
   "name": "python",
   "nbconvert_exporter": "python",
   "pygments_lexer": "ipython2",
   "version": "2.7.9"
  }
 },
 "nbformat": 4,
 "nbformat_minor": 0
}
